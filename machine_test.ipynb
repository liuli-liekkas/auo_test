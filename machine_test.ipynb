{
 "cells": [
  {
   "cell_type": "code",
   "execution_count": 4,
   "metadata": {
    "collapsed": true
   },
   "outputs": [],
   "source": [
    "from MachineClass import *"
   ]
  },
  {
   "cell_type": "code",
   "execution_count": 5,
   "outputs": [],
   "source": [
    "arts = ARTS()"
   ],
   "metadata": {
    "collapsed": false,
    "pycharm": {
     "name": "#%%\n"
    }
   }
  },
  {
   "cell_type": "code",
   "execution_count": 18,
   "outputs": [
    {
     "name": "stdout",
     "output_type": "stream",
     "text": [
      "ARTS连接成功\n"
     ]
    }
   ],
   "source": [
    "arts.connect('192.168.0.20')"
   ],
   "metadata": {
    "collapsed": false,
    "pycharm": {
     "name": "#%%\n"
    }
   }
  },
  {
   "cell_type": "code",
   "execution_count": 19,
   "outputs": [
    {
     "name": "stdout",
     "output_type": "stream",
     "text": [
      "ARTS成功关闭T/R模块\n",
      "ARTS成功关闭RF发射\n"
     ]
    },
    {
     "data": {
      "text/plain": "0"
     },
     "execution_count": 19,
     "metadata": {},
     "output_type": "execute_result"
    }
   ],
   "source": [
    "arts.set_tr_off()\n",
    "arts.set_output_off()"
   ],
   "metadata": {
    "collapsed": false,
    "pycharm": {
     "name": "#%%\n"
    }
   }
  },
  {
   "cell_type": "code",
   "execution_count": 14,
   "outputs": [
    {
     "name": "stdout",
     "output_type": "stream",
     "text": [
      "已设置为静态工作模式\n",
      "静态目标设置成功\n",
      "目标1：速度0km/h，距离60m，RCS-5dBsm\n",
      "目标2：速度0km/h，距离80m，RCS-5dBsm\n",
      "目标3：速度0km/h，距离100m，RCS-5dBsm\n",
      "目标4：速度0km/h，距离120m，RCS-5dBsm\n",
      "\n",
      "ARTS成功打开T/R模块\n",
      "ARTS成功打开RF发射\n"
     ]
    },
    {
     "data": {
      "text/plain": "0"
     },
     "execution_count": 14,
     "metadata": {},
     "output_type": "execute_result"
    }
   ],
   "source": [
    "arts.set_mode_static()\n",
    "arts.set_tx_chan_static(0,0,0,0,-5,-5,-5,-5,60,80,100,120)\n",
    "arts.set_tr_on()\n",
    "arts.set_output_on()"
   ],
   "metadata": {
    "collapsed": false,
    "pycharm": {
     "name": "#%%\n"
    }
   }
  },
  {
   "cell_type": "code",
   "execution_count": 15,
   "outputs": [
    {
     "name": "stdout",
     "output_type": "stream",
     "text": [
      "通道工作设置成功\n",
      "通道1打开\n",
      "通道2打开\n",
      "通道3打开\n",
      "通道4打开\n"
     ]
    },
    {
     "data": {
      "text/plain": "0"
     },
     "execution_count": 15,
     "metadata": {},
     "output_type": "execute_result"
    }
   ],
   "source": [
    "arts.set_tx_chan_enable(1,1,1,1)"
   ],
   "metadata": {
    "collapsed": false,
    "pycharm": {
     "name": "#%%\n"
    }
   }
  },
  {
   "cell_type": "code",
   "execution_count": null,
   "outputs": [],
   "source": [
    "arts.disconnect()"
   ],
   "metadata": {
    "collapsed": false,
    "pycharm": {
     "name": "#%%\n"
    }
   }
  },
  {
   "cell_type": "code",
   "execution_count": 16,
   "outputs": [],
   "source": [
    "dll = ctypes.CDLL('D:\\\\files\\python_learn\\\\auto_test\\\\dll\\\\D4ARTS6x64.dll')"
   ],
   "metadata": {
    "collapsed": false,
    "pycharm": {
     "name": "#%%\n"
    }
   }
  },
  {
   "cell_type": "code",
   "execution_count": 24,
   "outputs": [
    {
     "data": {
      "text/plain": "0"
     },
     "execution_count": 24,
     "metadata": {},
     "output_type": "execute_result"
    }
   ],
   "source": [
    "dll.Connect('192.168.0.20'.encode('utf-8'))"
   ],
   "metadata": {
    "collapsed": false,
    "pycharm": {
     "name": "#%%\n"
    }
   }
  },
  {
   "cell_type": "code",
   "execution_count": 25,
   "outputs": [
    {
     "data": {
      "text/plain": "1"
     },
     "execution_count": 25,
     "metadata": {},
     "output_type": "execute_result"
    }
   ],
   "source": [
    "dll.CheckConnectionStatus()"
   ],
   "metadata": {
    "collapsed": false,
    "pycharm": {
     "name": "#%%\n"
    }
   }
  },
  {
   "cell_type": "code",
   "execution_count": 84,
   "outputs": [
    {
     "data": {
      "text/plain": "0"
     },
     "execution_count": 84,
     "metadata": {},
     "output_type": "execute_result"
    }
   ],
   "source": [
    "dll.SetTxChanStaticCfg(ctypes.byref(ctypes.c_double(0)),\n",
    "                       ctypes.byref(ctypes.c_double(0)),\n",
    "                       ctypes.byref(ctypes.c_double(0)),\n",
    "                       ctypes.byref(ctypes.c_double(0)),\n",
    "                       ctypes.byref(ctypes.c_double(-5)),\n",
    "                       ctypes.byref(ctypes.c_double(-15)),\n",
    "                       ctypes.byref(ctypes.c_double(-15)),\n",
    "                       ctypes.byref(ctypes.c_double(-15)),\n",
    "                       ctypes.byref(ctypes.c_double(30)),\n",
    "                       ctypes.byref(ctypes.c_double(80)),\n",
    "                       ctypes.byref(ctypes.c_double(110)),\n",
    "                       ctypes.byref(ctypes.c_double(130)))"
   ],
   "metadata": {
    "collapsed": false,
    "pycharm": {
     "name": "#%%\n"
    }
   }
  },
  {
   "cell_type": "code",
   "execution_count": 85,
   "outputs": [
    {
     "data": {
      "text/plain": "0"
     },
     "execution_count": 85,
     "metadata": {},
     "output_type": "execute_result"
    }
   ],
   "source": [
    "dll.TxChanEnable(1,0,0,0)"
   ],
   "metadata": {
    "collapsed": false,
    "pycharm": {
     "name": "#%%\n"
    }
   }
  },
  {
   "cell_type": "code",
   "execution_count": 86,
   "outputs": [
    {
     "data": {
      "text/plain": "0"
     },
     "execution_count": 86,
     "metadata": {},
     "output_type": "execute_result"
    }
   ],
   "source": [
    "dll.SetTrEn(1)\n",
    "dll.SetSynthRFOutput(1)"
   ],
   "metadata": {
    "collapsed": false,
    "pycharm": {
     "name": "#%%\n"
    }
   }
  },
  {
   "cell_type": "code",
   "execution_count": 71,
   "outputs": [
    {
     "data": {
      "text/plain": "0"
     },
     "execution_count": 71,
     "metadata": {},
     "output_type": "execute_result"
    }
   ],
   "source": [
    "dll.SetTrims(ctypes.byref(ctypes.c_double(100)),\n",
    "             ctypes.c_double(10),\n",
    "             ctypes.c_double(10),\n",
    "             ctypes.c_double(10),\n",
    "             ctypes.c_double(100),\n",
    "             ctypes.c_double(1000),\n",
    "             ctypes.c_double(100),\n",
    "             ctypes.c_double(100),\n",
    "             ctypes.c_double(100),\n",
    "             ctypes.c_double(100))"
   ],
   "metadata": {
    "collapsed": false,
    "pycharm": {
     "name": "#%%\n"
    }
   }
  },
  {
   "cell_type": "code",
   "execution_count": 55,
   "outputs": [
    {
     "data": {
      "text/plain": "0"
     },
     "execution_count": 55,
     "metadata": {},
     "output_type": "execute_result"
    }
   ],
   "source": [
    "dll.Reset()"
   ],
   "metadata": {
    "collapsed": false,
    "pycharm": {
     "name": "#%%\n"
    }
   }
  },
  {
   "cell_type": "code",
   "execution_count": null,
   "outputs": [],
   "source": [
    "\n"
   ],
   "metadata": {
    "collapsed": false,
    "pycharm": {
     "name": "#%%\n"
    }
   }
  }
 ],
 "metadata": {
  "kernelspec": {
   "name": "pycharm-2bcfb4d0",
   "language": "python",
   "display_name": "PyCharm (data_detail)"
  },
  "language_info": {
   "codemirror_mode": {
    "name": "ipython",
    "version": 2
   },
   "file_extension": ".py",
   "mimetype": "text/x-python",
   "name": "python",
   "nbconvert_exporter": "python",
   "pygments_lexer": "ipython2",
   "version": "2.7.6"
  }
 },
 "nbformat": 4,
 "nbformat_minor": 0
}